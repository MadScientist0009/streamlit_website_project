{
 "cells": [
  {
   "cell_type": "code",
   "execution_count": 1,
   "metadata": {},
   "outputs": [
    {
     "name": "stdout",
     "output_type": "stream",
     "text": [
      "ph와 Sulfate 간의 상관관계: -0.1718042747306018\n",
      "Sulfate 열의 결측값 개수: 781\n",
      "Sulfate 열의 결측값 개수 (채운 후): 35\n",
      "최종 데이터프레임 형태: (2963, 11)\n"
     ]
    }
   ],
   "source": [
    "import pandas as pd  \n",
    "from sklearn.linear_model import LinearRegression \n",
    "\n",
    "# 데이터 불러오기\n",
    "df = pd.read_csv('water_survive.csv') \n",
    "\n",
    "# 'ph'와 'Sulfate' 간의 상관관계 계산\n",
    "correlation = df['Solids'].corr(df['Sulfate'])\n",
    "print(f'ph와 Sulfate 간의 상관관계: {correlation}')\n",
    "\n",
    "# 'Sulfate'의 결측값 개수 확인\n",
    "missing_values = df['Sulfate'].isnull().sum()\n",
    "print(f'Sulfate 열의 결측값 개수: {missing_values}')\n",
    "\n",
    "\n",
    "# 'Sulfate'의 결측값을 'ph'를 기준으로 회귀 모델을 사용하여 채움\n",
    "# 각 'Origin' 그룹에 대해 선형 회귀 모델을 학습하고 결측값을 예측하여 채움\n",
    "for Origin, group in df.groupby('Origin'):\n",
    "    train = group.dropna(subset=['Sulfate', 'Solids'])\n",
    "    test = group[group['Sulfate'].isnull() & group['Solids'].notnull()]\n",
    "    if not train.empty and not test.empty:\n",
    "        X_train = train[['Solids']]\n",
    "        y_train = train['Sulfate']\n",
    "        X_test = test[['Solids']]\n",
    "        \n",
    "        model = LinearRegression()\n",
    "        model.fit(X_train, y_train)\n",
    "        \n",
    "        predicted = model.predict(X_test)\n",
    "        \n",
    "        df.loc[test.index, 'Sulfate'] = predicted\n",
    "\n",
    "# 다시 결측값 확인\n",
    "missing_values_after = df['Sulfate'].isnull().sum()\n",
    "print(f'Sulfate 열의 결측값 개수 (채운 후): {missing_values_after}')\n",
    "\n",
    "# 이상치 제거\n",
    "Q1 = df[['Solids', 'Sulfate']].quantile(0.25)\n",
    "Q3 = df[['Solids', 'Sulfate']].quantile(0.75)\n",
    "IQR = Q3 - Q1\n",
    "# 이상치 조건\n",
    "condition_ph = (df['Solids'] >= Q1['Solids'] - 1.5 * IQR['Solids']) & (df['Solids'] <= Q3['Solids'] + 1.5 * IQR['Solids'])\n",
    "condition_sulfate = (df['Sulfate'] >= Q1['Sulfate'] - 1.5 * IQR['Sulfate']) & (df['Sulfate'] <= Q3['Sulfate'] + 1.5 * IQR['Sulfate'])\n",
    "\n",
    "condition = condition_ph & condition_sulfate\n",
    "\n",
    "df_cleaned = df[condition]\n",
    "\n",
    "df_cleaned_final=df_cleaned.dropna()\n",
    "# CSV 파일로 저장\n",
    "df_cleaned_final.to_csv('Solids_Sulfate_corr.csv', index=False)\n",
    "print(f'최종 데이터프레임 형태: {df_cleaned.shape}')\n",
    "\n"
   ]
  },
  {
   "cell_type": "code",
   "execution_count": null,
   "metadata": {},
   "outputs": [
    {
     "name": "stdout",
     "output_type": "stream",
     "text": [
      "  Origin       Solids  Chloramines     Sulfate  Conductivity  Organic_carbon  \\\n",
      "0  river  18630.05786     6.635246  333.550915    592.885359       15.180013   \n",
      "1   lake  19909.54173     9.275884  332.310799    418.606213       16.868637   \n",
      "2   lake  17978.98634     6.546600  310.135738    398.410813       11.558279   \n",
      "3   lake  28748.68774     7.544869  326.678363    280.467916        8.399735   \n",
      "4   lake  28749.71654     7.513408  393.663395    283.651634       13.789695   \n",
      "\n",
      "   Trihalomethanes  Turbidity    Hardness         ph  Survivability  \n",
      "0         4.048808   4.500656  129.422921   3.716080              0  \n",
      "1         4.210943   3.055934  224.236259   8.099124              0  \n",
      "2         3.496447   4.075075  181.101509   9.092223              0  \n",
      "3         4.023884   2.559708  188.313324   5.584087              0  \n",
      "4         8.899454   2.672989  248.071735  10.223862              0  \n",
      "왜도:\n",
      "Solids             0.583242\n",
      "Chloramines        0.032718\n",
      "Sulfate            0.085345\n",
      "Conductivity       0.259771\n",
      "Organic_carbon     0.022462\n",
      "Trihalomethanes    1.431553\n",
      "Turbidity         -0.056922\n",
      "Hardness           0.034430\n",
      "ph                 0.030854\n",
      "Survivability      0.488095\n",
      "dtype: float64\n",
      "첨도:\n",
      "Solids             0.395868\n",
      "Chloramines        0.635458\n",
      "Sulfate            0.109116\n",
      "Conductivity      -0.238599\n",
      "Organic_carbon    -0.045686\n",
      "Trihalomethanes    0.162544\n",
      "Turbidity         -0.064706\n",
      "Hardness           0.618536\n",
      "ph                -0.174746\n",
      "Survivability     -1.762072\n",
      "dtype: float64\n"
     ]
    }
   ],
   "source": [
    "import pandas as pd  \n",
    "import numpy as np  \n",
    "from scipy.stats import kurtosis\n",
    "\n",
    "# 데이터 불러오기\n",
    "df = pd.read_csv('ph_Sulfate_corr.csv')\n",
    "print(df.head())\n",
    "\n",
    "# 왜도 계산, 출력\n",
    "skewness = df.select_dtypes(include=[np.number]).skew()\n",
    "print(\"왜도:\")\n",
    "print(skewness)\n",
    "\n",
    "# 첨도 계산, 출력\n",
    "kurtosis_values = df.select_dtypes(include=[np.number]).apply(kurtosis, fisher=True)\n",
    "print(\"첨도:\")\n",
    "print(kurtosis_values)\n"
   ]
  }
 ],
 "metadata": {
  "kernelspec": {
   "display_name": "Python 3",
   "language": "python",
   "name": "python3"
  },
  "language_info": {
   "codemirror_mode": {
    "name": "ipython",
    "version": 3
   },
   "file_extension": ".py",
   "mimetype": "text/x-python",
   "name": "python",
   "nbconvert_exporter": "python",
   "pygments_lexer": "ipython3",
   "version": "3.12.2"
  }
 },
 "nbformat": 4,
 "nbformat_minor": 2
}
