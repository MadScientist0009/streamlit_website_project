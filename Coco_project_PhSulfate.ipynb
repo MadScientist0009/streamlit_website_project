{
  "nbformat": 4,
  "nbformat_minor": 0,
  "metadata": {
    "colab": {
      "provenance": []
    },
    "kernelspec": {
      "name": "python3",
      "display_name": "Python 3"
    },
    "language_info": {
      "name": "python"
    }
  },
  "cells": [
    {
      "cell_type": "code",
      "execution_count": null,
      "metadata": {
        "id": "5V7GFmRv083V"
      },
      "outputs": [],
      "source": [
        "import pandas as pd\n",
        "from sklearn.model_selection import train_test_split\n",
        "from sklearn.linear_model import LinearRegression\n",
        "from sklearn.linear_model import LogisticRegression\n",
        "from sklearn.multiclass import OneVsRestClassifier\n",
        "from sklearn.neural_network import MLPClassifier\n",
        "from sklearn.ensemble import RandomForestRegressor\n",
        "from sklearn.metrics import accuracy_score\n",
        "from sklearn.preprocessing import StandardScaler\n",
        "from sklearn.metrics import classification_report"
      ]
    },
    {
      "cell_type": "code",
      "source": [
        "df_dropna = pd.read_csv('ph_Sulfate_corr_clean.csv')"
      ],
      "metadata": {
        "id": "SaydxNAV2zVN"
      },
      "execution_count": null,
      "outputs": []
    },
    {
      "cell_type": "code",
      "source": [
        "mapping = {'river': 0, 'lake': 1, 'ocean': 2}\n",
        "df_dropna['Origin'] = df_dropna['Origin'].replace(mapping)\n",
        "\n",
        "#df_dropna = df_dropna.drop(columns=['Unnamed: 0'])"
      ],
      "metadata": {
        "id": "yB9D95Mq7dkL",
        "colab": {
          "base_uri": "https://localhost:8080/"
        },
        "outputId": "577f00e1-760b-4f25-e550-bb0c7b281ab5"
      },
      "execution_count": null,
      "outputs": [
        {
          "output_type": "stream",
          "name": "stderr",
          "text": [
            "<ipython-input-16-279f21bd4487>:2: FutureWarning: Downcasting behavior in `replace` is deprecated and will be removed in a future version. To retain the old behavior, explicitly call `result.infer_objects(copy=False)`. To opt-in to the future behavior, set `pd.set_option('future.no_silent_downcasting', True)`\n",
            "  df_dropna['Origin'] = df_dropna['Origin'].replace(mapping)\n"
          ]
        }
      ]
    },
    {
      "cell_type": "code",
      "source": [
        "df_dropna.head()"
      ],
      "metadata": {
        "colab": {
          "base_uri": "https://localhost:8080/",
          "height": 206
        },
        "id": "aIUtQheN8bUD",
        "outputId": "34a2c933-2733-4c35-afad-01550ec66734"
      },
      "execution_count": null,
      "outputs": [
        {
          "output_type": "execute_result",
          "data": {
            "text/plain": [
              "   Origin       Solids  Chloramines     Sulfate  Conductivity  Organic_carbon  \\\n",
              "0       0  18630.05786     6.635246  333.550915    592.885359       15.180013   \n",
              "1       1  19909.54173     9.275884  332.310799    418.606213       16.868637   \n",
              "2       1  17978.98634     6.546600  310.135738    398.410813       11.558279   \n",
              "3       1  28748.68774     7.544869  326.678363    280.467916        8.399735   \n",
              "4       1  28749.71654     7.513408  393.663395    283.651634       13.789695   \n",
              "\n",
              "   Trihalomethanes  Turbidity    Hardness         ph  Survivability  \n",
              "0         4.048808   4.500656  129.422921   3.716080              0  \n",
              "1         4.210943   3.055934  224.236259   8.099124              0  \n",
              "2         3.496447   4.075075  181.101509   9.092223              0  \n",
              "3         4.023884   2.559708  188.313324   5.584087              0  \n",
              "4         8.899454   2.672989  248.071735  10.223862              0  "
            ],
            "text/html": [
              "\n",
              "  <div id=\"df-e7f8c151-5bad-4260-a43c-1e938db66890\" class=\"colab-df-container\">\n",
              "    <div>\n",
              "<style scoped>\n",
              "    .dataframe tbody tr th:only-of-type {\n",
              "        vertical-align: middle;\n",
              "    }\n",
              "\n",
              "    .dataframe tbody tr th {\n",
              "        vertical-align: top;\n",
              "    }\n",
              "\n",
              "    .dataframe thead th {\n",
              "        text-align: right;\n",
              "    }\n",
              "</style>\n",
              "<table border=\"1\" class=\"dataframe\">\n",
              "  <thead>\n",
              "    <tr style=\"text-align: right;\">\n",
              "      <th></th>\n",
              "      <th>Origin</th>\n",
              "      <th>Solids</th>\n",
              "      <th>Chloramines</th>\n",
              "      <th>Sulfate</th>\n",
              "      <th>Conductivity</th>\n",
              "      <th>Organic_carbon</th>\n",
              "      <th>Trihalomethanes</th>\n",
              "      <th>Turbidity</th>\n",
              "      <th>Hardness</th>\n",
              "      <th>ph</th>\n",
              "      <th>Survivability</th>\n",
              "    </tr>\n",
              "  </thead>\n",
              "  <tbody>\n",
              "    <tr>\n",
              "      <th>0</th>\n",
              "      <td>0</td>\n",
              "      <td>18630.05786</td>\n",
              "      <td>6.635246</td>\n",
              "      <td>333.550915</td>\n",
              "      <td>592.885359</td>\n",
              "      <td>15.180013</td>\n",
              "      <td>4.048808</td>\n",
              "      <td>4.500656</td>\n",
              "      <td>129.422921</td>\n",
              "      <td>3.716080</td>\n",
              "      <td>0</td>\n",
              "    </tr>\n",
              "    <tr>\n",
              "      <th>1</th>\n",
              "      <td>1</td>\n",
              "      <td>19909.54173</td>\n",
              "      <td>9.275884</td>\n",
              "      <td>332.310799</td>\n",
              "      <td>418.606213</td>\n",
              "      <td>16.868637</td>\n",
              "      <td>4.210943</td>\n",
              "      <td>3.055934</td>\n",
              "      <td>224.236259</td>\n",
              "      <td>8.099124</td>\n",
              "      <td>0</td>\n",
              "    </tr>\n",
              "    <tr>\n",
              "      <th>2</th>\n",
              "      <td>1</td>\n",
              "      <td>17978.98634</td>\n",
              "      <td>6.546600</td>\n",
              "      <td>310.135738</td>\n",
              "      <td>398.410813</td>\n",
              "      <td>11.558279</td>\n",
              "      <td>3.496447</td>\n",
              "      <td>4.075075</td>\n",
              "      <td>181.101509</td>\n",
              "      <td>9.092223</td>\n",
              "      <td>0</td>\n",
              "    </tr>\n",
              "    <tr>\n",
              "      <th>3</th>\n",
              "      <td>1</td>\n",
              "      <td>28748.68774</td>\n",
              "      <td>7.544869</td>\n",
              "      <td>326.678363</td>\n",
              "      <td>280.467916</td>\n",
              "      <td>8.399735</td>\n",
              "      <td>4.023884</td>\n",
              "      <td>2.559708</td>\n",
              "      <td>188.313324</td>\n",
              "      <td>5.584087</td>\n",
              "      <td>0</td>\n",
              "    </tr>\n",
              "    <tr>\n",
              "      <th>4</th>\n",
              "      <td>1</td>\n",
              "      <td>28749.71654</td>\n",
              "      <td>7.513408</td>\n",
              "      <td>393.663395</td>\n",
              "      <td>283.651634</td>\n",
              "      <td>13.789695</td>\n",
              "      <td>8.899454</td>\n",
              "      <td>2.672989</td>\n",
              "      <td>248.071735</td>\n",
              "      <td>10.223862</td>\n",
              "      <td>0</td>\n",
              "    </tr>\n",
              "  </tbody>\n",
              "</table>\n",
              "</div>\n",
              "    <div class=\"colab-df-buttons\">\n",
              "\n",
              "  <div class=\"colab-df-container\">\n",
              "    <button class=\"colab-df-convert\" onclick=\"convertToInteractive('df-e7f8c151-5bad-4260-a43c-1e938db66890')\"\n",
              "            title=\"Convert this dataframe to an interactive table.\"\n",
              "            style=\"display:none;\">\n",
              "\n",
              "  <svg xmlns=\"http://www.w3.org/2000/svg\" height=\"24px\" viewBox=\"0 -960 960 960\">\n",
              "    <path d=\"M120-120v-720h720v720H120Zm60-500h600v-160H180v160Zm220 220h160v-160H400v160Zm0 220h160v-160H400v160ZM180-400h160v-160H180v160Zm440 0h160v-160H620v160ZM180-180h160v-160H180v160Zm440 0h160v-160H620v160Z\"/>\n",
              "  </svg>\n",
              "    </button>\n",
              "\n",
              "  <style>\n",
              "    .colab-df-container {\n",
              "      display:flex;\n",
              "      gap: 12px;\n",
              "    }\n",
              "\n",
              "    .colab-df-convert {\n",
              "      background-color: #E8F0FE;\n",
              "      border: none;\n",
              "      border-radius: 50%;\n",
              "      cursor: pointer;\n",
              "      display: none;\n",
              "      fill: #1967D2;\n",
              "      height: 32px;\n",
              "      padding: 0 0 0 0;\n",
              "      width: 32px;\n",
              "    }\n",
              "\n",
              "    .colab-df-convert:hover {\n",
              "      background-color: #E2EBFA;\n",
              "      box-shadow: 0px 1px 2px rgba(60, 64, 67, 0.3), 0px 1px 3px 1px rgba(60, 64, 67, 0.15);\n",
              "      fill: #174EA6;\n",
              "    }\n",
              "\n",
              "    .colab-df-buttons div {\n",
              "      margin-bottom: 4px;\n",
              "    }\n",
              "\n",
              "    [theme=dark] .colab-df-convert {\n",
              "      background-color: #3B4455;\n",
              "      fill: #D2E3FC;\n",
              "    }\n",
              "\n",
              "    [theme=dark] .colab-df-convert:hover {\n",
              "      background-color: #434B5C;\n",
              "      box-shadow: 0px 1px 3px 1px rgba(0, 0, 0, 0.15);\n",
              "      filter: drop-shadow(0px 1px 2px rgba(0, 0, 0, 0.3));\n",
              "      fill: #FFFFFF;\n",
              "    }\n",
              "  </style>\n",
              "\n",
              "    <script>\n",
              "      const buttonEl =\n",
              "        document.querySelector('#df-e7f8c151-5bad-4260-a43c-1e938db66890 button.colab-df-convert');\n",
              "      buttonEl.style.display =\n",
              "        google.colab.kernel.accessAllowed ? 'block' : 'none';\n",
              "\n",
              "      async function convertToInteractive(key) {\n",
              "        const element = document.querySelector('#df-e7f8c151-5bad-4260-a43c-1e938db66890');\n",
              "        const dataTable =\n",
              "          await google.colab.kernel.invokeFunction('convertToInteractive',\n",
              "                                                    [key], {});\n",
              "        if (!dataTable) return;\n",
              "\n",
              "        const docLinkHtml = 'Like what you see? Visit the ' +\n",
              "          '<a target=\"_blank\" href=https://colab.research.google.com/notebooks/data_table.ipynb>data table notebook</a>'\n",
              "          + ' to learn more about interactive tables.';\n",
              "        element.innerHTML = '';\n",
              "        dataTable['output_type'] = 'display_data';\n",
              "        await google.colab.output.renderOutput(dataTable, element);\n",
              "        const docLink = document.createElement('div');\n",
              "        docLink.innerHTML = docLinkHtml;\n",
              "        element.appendChild(docLink);\n",
              "      }\n",
              "    </script>\n",
              "  </div>\n",
              "\n",
              "\n",
              "<div id=\"df-be783724-8da1-4d03-b57e-0af294994ece\">\n",
              "  <button class=\"colab-df-quickchart\" onclick=\"quickchart('df-be783724-8da1-4d03-b57e-0af294994ece')\"\n",
              "            title=\"Suggest charts\"\n",
              "            style=\"display:none;\">\n",
              "\n",
              "<svg xmlns=\"http://www.w3.org/2000/svg\" height=\"24px\"viewBox=\"0 0 24 24\"\n",
              "     width=\"24px\">\n",
              "    <g>\n",
              "        <path d=\"M19 3H5c-1.1 0-2 .9-2 2v14c0 1.1.9 2 2 2h14c1.1 0 2-.9 2-2V5c0-1.1-.9-2-2-2zM9 17H7v-7h2v7zm4 0h-2V7h2v10zm4 0h-2v-4h2v4z\"/>\n",
              "    </g>\n",
              "</svg>\n",
              "  </button>\n",
              "\n",
              "<style>\n",
              "  .colab-df-quickchart {\n",
              "      --bg-color: #E8F0FE;\n",
              "      --fill-color: #1967D2;\n",
              "      --hover-bg-color: #E2EBFA;\n",
              "      --hover-fill-color: #174EA6;\n",
              "      --disabled-fill-color: #AAA;\n",
              "      --disabled-bg-color: #DDD;\n",
              "  }\n",
              "\n",
              "  [theme=dark] .colab-df-quickchart {\n",
              "      --bg-color: #3B4455;\n",
              "      --fill-color: #D2E3FC;\n",
              "      --hover-bg-color: #434B5C;\n",
              "      --hover-fill-color: #FFFFFF;\n",
              "      --disabled-bg-color: #3B4455;\n",
              "      --disabled-fill-color: #666;\n",
              "  }\n",
              "\n",
              "  .colab-df-quickchart {\n",
              "    background-color: var(--bg-color);\n",
              "    border: none;\n",
              "    border-radius: 50%;\n",
              "    cursor: pointer;\n",
              "    display: none;\n",
              "    fill: var(--fill-color);\n",
              "    height: 32px;\n",
              "    padding: 0;\n",
              "    width: 32px;\n",
              "  }\n",
              "\n",
              "  .colab-df-quickchart:hover {\n",
              "    background-color: var(--hover-bg-color);\n",
              "    box-shadow: 0 1px 2px rgba(60, 64, 67, 0.3), 0 1px 3px 1px rgba(60, 64, 67, 0.15);\n",
              "    fill: var(--button-hover-fill-color);\n",
              "  }\n",
              "\n",
              "  .colab-df-quickchart-complete:disabled,\n",
              "  .colab-df-quickchart-complete:disabled:hover {\n",
              "    background-color: var(--disabled-bg-color);\n",
              "    fill: var(--disabled-fill-color);\n",
              "    box-shadow: none;\n",
              "  }\n",
              "\n",
              "  .colab-df-spinner {\n",
              "    border: 2px solid var(--fill-color);\n",
              "    border-color: transparent;\n",
              "    border-bottom-color: var(--fill-color);\n",
              "    animation:\n",
              "      spin 1s steps(1) infinite;\n",
              "  }\n",
              "\n",
              "  @keyframes spin {\n",
              "    0% {\n",
              "      border-color: transparent;\n",
              "      border-bottom-color: var(--fill-color);\n",
              "      border-left-color: var(--fill-color);\n",
              "    }\n",
              "    20% {\n",
              "      border-color: transparent;\n",
              "      border-left-color: var(--fill-color);\n",
              "      border-top-color: var(--fill-color);\n",
              "    }\n",
              "    30% {\n",
              "      border-color: transparent;\n",
              "      border-left-color: var(--fill-color);\n",
              "      border-top-color: var(--fill-color);\n",
              "      border-right-color: var(--fill-color);\n",
              "    }\n",
              "    40% {\n",
              "      border-color: transparent;\n",
              "      border-right-color: var(--fill-color);\n",
              "      border-top-color: var(--fill-color);\n",
              "    }\n",
              "    60% {\n",
              "      border-color: transparent;\n",
              "      border-right-color: var(--fill-color);\n",
              "    }\n",
              "    80% {\n",
              "      border-color: transparent;\n",
              "      border-right-color: var(--fill-color);\n",
              "      border-bottom-color: var(--fill-color);\n",
              "    }\n",
              "    90% {\n",
              "      border-color: transparent;\n",
              "      border-bottom-color: var(--fill-color);\n",
              "    }\n",
              "  }\n",
              "</style>\n",
              "\n",
              "  <script>\n",
              "    async function quickchart(key) {\n",
              "      const quickchartButtonEl =\n",
              "        document.querySelector('#' + key + ' button');\n",
              "      quickchartButtonEl.disabled = true;  // To prevent multiple clicks.\n",
              "      quickchartButtonEl.classList.add('colab-df-spinner');\n",
              "      try {\n",
              "        const charts = await google.colab.kernel.invokeFunction(\n",
              "            'suggestCharts', [key], {});\n",
              "      } catch (error) {\n",
              "        console.error('Error during call to suggestCharts:', error);\n",
              "      }\n",
              "      quickchartButtonEl.classList.remove('colab-df-spinner');\n",
              "      quickchartButtonEl.classList.add('colab-df-quickchart-complete');\n",
              "    }\n",
              "    (() => {\n",
              "      let quickchartButtonEl =\n",
              "        document.querySelector('#df-be783724-8da1-4d03-b57e-0af294994ece button');\n",
              "      quickchartButtonEl.style.display =\n",
              "        google.colab.kernel.accessAllowed ? 'block' : 'none';\n",
              "    })();\n",
              "  </script>\n",
              "</div>\n",
              "\n",
              "    </div>\n",
              "  </div>\n"
            ],
            "application/vnd.google.colaboratory.intrinsic+json": {
              "type": "dataframe",
              "variable_name": "df_dropna",
              "summary": "{\n  \"name\": \"df_dropna\",\n  \"rows\": 2519,\n  \"fields\": [\n    {\n      \"column\": \"Origin\",\n      \"properties\": {\n        \"dtype\": \"number\",\n        \"std\": 0,\n        \"min\": 0,\n        \"max\": 2,\n        \"num_unique_values\": 3,\n        \"samples\": [\n          0,\n          1,\n          2\n        ],\n        \"semantic_type\": \"\",\n        \"description\": \"\"\n      }\n    },\n    {\n      \"column\": \"Solids\",\n      \"properties\": {\n        \"dtype\": \"number\",\n        \"std\": 8685.358853931713,\n        \"min\": 320.9426113,\n        \"max\": 56867.85924,\n        \"num_unique_values\": 2519,\n        \"samples\": [\n          13163.03128,\n          16173.72709,\n          26262.54548\n        ],\n        \"semantic_type\": \"\",\n        \"description\": \"\"\n      }\n    },\n    {\n      \"column\": \"Chloramines\",\n      \"properties\": {\n        \"dtype\": \"number\",\n        \"std\": 1.5940396274308397,\n        \"min\": 0.530351295,\n        \"max\": 13.127,\n        \"num_unique_values\": 2519,\n        \"samples\": [\n          5.762522398,\n          6.341797302,\n          6.742150215\n        ],\n        \"semantic_type\": \"\",\n        \"description\": \"\"\n      }\n    },\n    {\n      \"column\": \"Sulfate\",\n      \"properties\": {\n        \"dtype\": \"number\",\n        \"std\": 35.90224222796146,\n        \"min\": 129.0,\n        \"max\": 481.0306423,\n        \"num_unique_values\": 2519,\n        \"samples\": [\n          351.2781336,\n          318.7889329,\n          289.0143482\n        ],\n        \"semantic_type\": \"\",\n        \"description\": \"\"\n      }\n    },\n    {\n      \"column\": \"Conductivity\",\n      \"properties\": {\n        \"dtype\": \"number\",\n        \"std\": 81.31122305781774,\n        \"min\": 181.483754,\n        \"max\": 753.3426196,\n        \"num_unique_values\": 2519,\n        \"samples\": [\n          436.602436,\n          387.1304829,\n          410.1013089\n        ],\n        \"semantic_type\": \"\",\n        \"description\": \"\"\n      }\n    },\n    {\n      \"column\": \"Organic_carbon\",\n      \"properties\": {\n        \"dtype\": \"number\",\n        \"std\": 3.299403380944119,\n        \"min\": 2.2,\n        \"max\": 27.00670661,\n        \"num_unique_values\": 2519,\n        \"samples\": [\n          19.103152,\n          12.04291419,\n          12.9246531\n        ],\n        \"semantic_type\": \"\",\n        \"description\": \"\"\n      }\n    },\n    {\n      \"column\": \"Trihalomethanes\",\n      \"properties\": {\n        \"dtype\": \"number\",\n        \"std\": 1.970420704413742,\n        \"min\": 0.552735027,\n        \"max\": 9.656627475,\n        \"num_unique_values\": 2519,\n        \"samples\": [\n          3.981128291,\n          3.979910807,\n          8.877101968\n        ],\n        \"semantic_type\": \"\",\n        \"description\": \"\"\n      }\n    },\n    {\n      \"column\": \"Turbidity\",\n      \"properties\": {\n        \"dtype\": \"number\",\n        \"std\": 0.7807354215898873,\n        \"min\": 1.45,\n        \"max\": 6.494748556,\n        \"num_unique_values\": 2519,\n        \"samples\": [\n          2.2090918,\n          4.240821478,\n          3.729960916\n        ],\n        \"semantic_type\": \"\",\n        \"description\": \"\"\n      }\n    },\n    {\n      \"column\": \"Hardness\",\n      \"properties\": {\n        \"dtype\": \"number\",\n        \"std\": 32.92052340705719,\n        \"min\": 73.49223369,\n        \"max\": 323.124,\n        \"num_unique_values\": 2519,\n        \"samples\": [\n          199.1601753,\n          194.5001438,\n          185.3385398\n        ],\n        \"semantic_type\": \"\",\n        \"description\": \"\"\n      }\n    },\n    {\n      \"column\": \"ph\",\n      \"properties\": {\n        \"dtype\": \"number\",\n        \"std\": 1.581966278084893,\n        \"min\": 0.0,\n        \"max\": 14.0,\n        \"num_unique_values\": 2519,\n        \"samples\": [\n          7.171223723,\n          5.770620969,\n          6.513016586\n        ],\n        \"semantic_type\": \"\",\n        \"description\": \"\"\n      }\n    },\n    {\n      \"column\": \"Survivability\",\n      \"properties\": {\n        \"dtype\": \"number\",\n        \"std\": 0,\n        \"min\": 0,\n        \"max\": 1,\n        \"num_unique_values\": 2,\n        \"samples\": [\n          1,\n          0\n        ],\n        \"semantic_type\": \"\",\n        \"description\": \"\"\n      }\n    }\n  ]\n}"
            }
          },
          "metadata": {},
          "execution_count": 17
        }
      ]
    },
    {
      "cell_type": "code",
      "source": [
        "X_DN = df_dropna.drop(columns=['Survivability'])  # 특징 데이터\n",
        "y_DN = df_dropna['Survivability']  # 타겟 데이터\n",
        "\n",
        "# train : test = 8:2 설정\n",
        "X_train_DN, X_test_DN, y_train_DN, y_test_DN = train_test_split(X_DN, y_DN, test_size=0.2,random_state=42)"
      ],
      "metadata": {
        "id": "E_GrJavX2m5V"
      },
      "execution_count": null,
      "outputs": []
    },
    {
      "cell_type": "markdown",
      "source": [
        "Linear Regression"
      ],
      "metadata": {
        "id": "ByvXhZWm6_iY"
      }
    },
    {
      "cell_type": "code",
      "source": [
        "LRmodel = LinearRegression(fit_intercept=True)\n",
        "LRmodel.fit(X_train_DN, y_train_DN)\n",
        "\n",
        "y_pred_DN = LRmodel.predict(X_test_DN)"
      ],
      "metadata": {
        "id": "gBe9pBNf6s6m"
      },
      "execution_count": null,
      "outputs": []
    },
    {
      "cell_type": "code",
      "source": [
        "# 모델 평가\n",
        "y_pred_DN = (y_pred_DN > 0.5).astype(int)\n",
        "\n",
        "\n",
        "print(\"Accuracy:\", accuracy_score(y_test_DN, y_pred_DN))\n",
        "print(\"Linear Regression Classification Report:\")\n",
        "print(classification_report(y_test_DN, y_pred_DN))"
      ],
      "metadata": {
        "colab": {
          "base_uri": "https://localhost:8080/"
        },
        "id": "iSCY7b1i6-SD",
        "outputId": "c50ffb4c-defd-4f6d-d00f-fce5925267c6"
      },
      "execution_count": null,
      "outputs": [
        {
          "output_type": "stream",
          "name": "stdout",
          "text": [
            "Accuracy: 0.6170634920634921\n",
            "Linear Regression Classification Report:\n",
            "              precision    recall  f1-score   support\n",
            "\n",
            "           0       0.62      1.00      0.76       311\n",
            "           1       0.00      0.00      0.00       193\n",
            "\n",
            "    accuracy                           0.62       504\n",
            "   macro avg       0.31      0.50      0.38       504\n",
            "weighted avg       0.38      0.62      0.47       504\n",
            "\n"
          ]
        },
        {
          "output_type": "stream",
          "name": "stderr",
          "text": [
            "/usr/local/lib/python3.10/dist-packages/sklearn/metrics/_classification.py:1531: UndefinedMetricWarning: Precision is ill-defined and being set to 0.0 in labels with no predicted samples. Use `zero_division` parameter to control this behavior.\n",
            "  _warn_prf(average, modifier, f\"{metric.capitalize()} is\", len(result))\n",
            "/usr/local/lib/python3.10/dist-packages/sklearn/metrics/_classification.py:1531: UndefinedMetricWarning: Precision is ill-defined and being set to 0.0 in labels with no predicted samples. Use `zero_division` parameter to control this behavior.\n",
            "  _warn_prf(average, modifier, f\"{metric.capitalize()} is\", len(result))\n",
            "/usr/local/lib/python3.10/dist-packages/sklearn/metrics/_classification.py:1531: UndefinedMetricWarning: Precision is ill-defined and being set to 0.0 in labels with no predicted samples. Use `zero_division` parameter to control this behavior.\n",
            "  _warn_prf(average, modifier, f\"{metric.capitalize()} is\", len(result))\n"
          ]
        }
      ]
    },
    {
      "cell_type": "markdown",
      "source": [
        "Logistic Regression"
      ],
      "metadata": {
        "id": "CkHg9GmxA3Sv"
      }
    },
    {
      "cell_type": "code",
      "source": [
        "scaler = StandardScaler()\n",
        "X_train_scaled = scaler.fit_transform(X_train_DN)\n",
        "X_test_scaled = scaler.transform(X_test_DN)\n",
        "\n",
        "\n",
        "Logistic_model = OneVsRestClassifier(LogisticRegression())\n",
        "Logistic_model.fit(X_train_scaled, y_train_DN)\n",
        "y_pred_DN_logi = Logistic_model.predict(X_test_scaled)\n",
        "\n",
        "\n",
        "print(\"Accuracy:\", accuracy_score(y_test_DN, y_pred_DN_logi))\n",
        "print(\"Logistic Regression Classification Report:\")\n",
        "print(classification_report(y_test_DN, y_pred_DN_logi))"
      ],
      "metadata": {
        "colab": {
          "base_uri": "https://localhost:8080/"
        },
        "id": "jPIPKW2-8tbj",
        "outputId": "cbaddf61-dc37-4907-a902-6b96e55ff847"
      },
      "execution_count": null,
      "outputs": [
        {
          "output_type": "stream",
          "name": "stdout",
          "text": [
            "Accuracy: 0.6170634920634921\n",
            "Logistic Regression Classification Report:\n",
            "              precision    recall  f1-score   support\n",
            "\n",
            "           0       0.62      1.00      0.76       311\n",
            "           1       0.00      0.00      0.00       193\n",
            "\n",
            "    accuracy                           0.62       504\n",
            "   macro avg       0.31      0.50      0.38       504\n",
            "weighted avg       0.38      0.62      0.47       504\n",
            "\n"
          ]
        },
        {
          "output_type": "stream",
          "name": "stderr",
          "text": [
            "/usr/local/lib/python3.10/dist-packages/sklearn/metrics/_classification.py:1531: UndefinedMetricWarning: Precision is ill-defined and being set to 0.0 in labels with no predicted samples. Use `zero_division` parameter to control this behavior.\n",
            "  _warn_prf(average, modifier, f\"{metric.capitalize()} is\", len(result))\n",
            "/usr/local/lib/python3.10/dist-packages/sklearn/metrics/_classification.py:1531: UndefinedMetricWarning: Precision is ill-defined and being set to 0.0 in labels with no predicted samples. Use `zero_division` parameter to control this behavior.\n",
            "  _warn_prf(average, modifier, f\"{metric.capitalize()} is\", len(result))\n",
            "/usr/local/lib/python3.10/dist-packages/sklearn/metrics/_classification.py:1531: UndefinedMetricWarning: Precision is ill-defined and being set to 0.0 in labels with no predicted samples. Use `zero_division` parameter to control this behavior.\n",
            "  _warn_prf(average, modifier, f\"{metric.capitalize()} is\", len(result))\n"
          ]
        }
      ]
    },
    {
      "cell_type": "code",
      "source": [
        "logreg = LogisticRegression(random_state=42, solver='lbfgs', max_iter=1000)\n",
        "\n",
        "logreg.fit(X_train_scaled, y_train_DN.astype(int))  # y_train이 정수형인지 확인\n",
        "\n",
        "y_pred_lr = logreg.predict(X_test_scaled)\n",
        "\n",
        "print(\"Accuracy:\", accuracy_score(y_test_DN.astype(int), y_pred_lr))\n",
        "print(\"Classification Report:\\n\", classification_report(y_test_DN.astype(int), y_pred_lr))"
      ],
      "metadata": {
        "colab": {
          "base_uri": "https://localhost:8080/"
        },
        "id": "Cd9hp5txtQVZ",
        "outputId": "fe36ad2f-8ef6-48d3-d29e-0ddd8fbc6baa"
      },
      "execution_count": null,
      "outputs": [
        {
          "output_type": "stream",
          "name": "stdout",
          "text": [
            "Accuracy: 0.6170634920634921\n",
            "Classification Report:\n",
            "               precision    recall  f1-score   support\n",
            "\n",
            "           0       0.62      1.00      0.76       311\n",
            "           1       0.00      0.00      0.00       193\n",
            "\n",
            "    accuracy                           0.62       504\n",
            "   macro avg       0.31      0.50      0.38       504\n",
            "weighted avg       0.38      0.62      0.47       504\n",
            "\n"
          ]
        },
        {
          "output_type": "stream",
          "name": "stderr",
          "text": [
            "/usr/local/lib/python3.10/dist-packages/sklearn/metrics/_classification.py:1531: UndefinedMetricWarning: Precision is ill-defined and being set to 0.0 in labels with no predicted samples. Use `zero_division` parameter to control this behavior.\n",
            "  _warn_prf(average, modifier, f\"{metric.capitalize()} is\", len(result))\n",
            "/usr/local/lib/python3.10/dist-packages/sklearn/metrics/_classification.py:1531: UndefinedMetricWarning: Precision is ill-defined and being set to 0.0 in labels with no predicted samples. Use `zero_division` parameter to control this behavior.\n",
            "  _warn_prf(average, modifier, f\"{metric.capitalize()} is\", len(result))\n",
            "/usr/local/lib/python3.10/dist-packages/sklearn/metrics/_classification.py:1531: UndefinedMetricWarning: Precision is ill-defined and being set to 0.0 in labels with no predicted samples. Use `zero_division` parameter to control this behavior.\n",
            "  _warn_prf(average, modifier, f\"{metric.capitalize()} is\", len(result))\n"
          ]
        }
      ]
    },
    {
      "cell_type": "markdown",
      "source": [
        "Neural Network"
      ],
      "metadata": {
        "id": "UYsS77n2vQwe"
      }
    },
    {
      "cell_type": "code",
      "source": [
        "#Neural Network\n",
        "mlp = MLPClassifier(hidden_layer_sizes=(100, 100), activation='relu', solver='adam', max_iter=1000, random_state=42)\n",
        "\n",
        "mlp.fit(X_train_scaled, y_train_DN.astype(int))\n",
        "\n",
        "y_pred_NN = mlp.predict(X_test_scaled)\n",
        "print(\"Accuracy:\", accuracy_score(y_test_DN.astype(int), y_pred_NN))\n",
        "print(\"Classification Report:\\n\", classification_report(y_test_DN.astype(int), y_pred_NN))"
      ],
      "metadata": {
        "colab": {
          "base_uri": "https://localhost:8080/"
        },
        "id": "D2FdXcpfez-L",
        "outputId": "2af39870-6126-411c-e68b-2cf54a38f3b2"
      },
      "execution_count": null,
      "outputs": [
        {
          "output_type": "stream",
          "name": "stdout",
          "text": [
            "Accuracy: 0.6170634920634921\n",
            "Classification Report:\n",
            "               precision    recall  f1-score   support\n",
            "\n",
            "           0       0.70      0.68      0.69       311\n",
            "           1       0.50      0.52      0.51       193\n",
            "\n",
            "    accuracy                           0.62       504\n",
            "   macro avg       0.60      0.60      0.60       504\n",
            "weighted avg       0.62      0.62      0.62       504\n",
            "\n"
          ]
        }
      ]
    },
    {
      "cell_type": "markdown",
      "source": [
        "Random Forest"
      ],
      "metadata": {
        "id": "VElamBXcvT6n"
      }
    },
    {
      "cell_type": "code",
      "source": [
        "#RandomForestClassifier\n",
        "\n",
        "from sklearn.ensemble import RandomForestClassifier\n",
        "from sklearn.metrics import accuracy_score\n",
        "\n",
        "rf_classifier = RandomForestClassifier(n_estimators=100, random_state=42)\n",
        "rf_classifier.fit(X_train_scaled, y_train_DN.astype(int))\n",
        "\n",
        "\n",
        "y_pred_RF = rf_classifier.predict(X_test_scaled)\n",
        "\n",
        "print(\"Accuracy:\", accuracy_score(y_test_DN.astype(int), y_pred_RF))\n",
        "print(\"Classification Report:\\n\", classification_report(y_test_DN.astype(int), y_pred_RF))"
      ],
      "metadata": {
        "id": "sKzEFvFJe0-C",
        "colab": {
          "base_uri": "https://localhost:8080/"
        },
        "outputId": "4304a75d-6e0f-4977-c7c8-a1b4b2ec60b0"
      },
      "execution_count": null,
      "outputs": [
        {
          "output_type": "stream",
          "name": "stdout",
          "text": [
            "Accuracy: 0.6626984126984127\n",
            "Classification Report:\n",
            "               precision    recall  f1-score   support\n",
            "\n",
            "           0       0.69      0.83      0.75       311\n",
            "           1       0.59      0.39      0.47       193\n",
            "\n",
            "    accuracy                           0.66       504\n",
            "   macro avg       0.64      0.61      0.61       504\n",
            "weighted avg       0.65      0.66      0.64       504\n",
            "\n"
          ]
        }
      ]
    },
    {
      "cell_type": "code",
      "source": [],
      "metadata": {
        "id": "8URbcKMWwnUr"
      },
      "execution_count": null,
      "outputs": []
    }
  ]
}