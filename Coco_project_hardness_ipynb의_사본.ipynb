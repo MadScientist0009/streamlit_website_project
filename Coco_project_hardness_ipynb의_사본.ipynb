{
  "nbformat": 4,
  "nbformat_minor": 0,
  "metadata": {
    "colab": {
      "provenance": []
    },
    "kernelspec": {
      "name": "python3",
      "display_name": "Python 3"
    },
    "language_info": {
      "name": "python"
    }
  },
  "cells": [
    {
      "cell_type": "code",
      "execution_count": null,
      "metadata": {
        "id": "5V7GFmRv083V"
      },
      "outputs": [],
      "source": [
        "import pandas as pd\n",
        "from sklearn.model_selection import train_test_split\n",
        "from sklearn.linear_model import LinearRegression\n",
        "from sklearn.linear_model import LogisticRegression\n",
        "from sklearn.multiclass import OneVsRestClassifier\n",
        "from sklearn.neural_network import MLPClassifier\n",
        "from sklearn.ensemble import RandomForestRegressor\n",
        "from sklearn.metrics import accuracy_score\n",
        "from sklearn.preprocessing import StandardScaler\n",
        "from sklearn.metrics import classification_report"
      ]
    },
    {
      "cell_type": "code",
      "source": [
        "df_dropna = pd.read_csv('hardness_group.csv')"
      ],
      "metadata": {
        "id": "SaydxNAV2zVN"
      },
      "execution_count": null,
      "outputs": []
    },
    {
      "cell_type": "code",
      "source": [
        "mapping = {'river': 0, 'lake': 1, 'ocean': 2}\n",
        "df_dropna['Origin'] = df_dropna['Origin'].replace(mapping)\n",
        "\n",
        "df_dropna = df_dropna.drop(columns=['Unnamed: 0'])\n",
        "df_dropna = df_dropna.dropna(axis=0)"
      ],
      "metadata": {
        "id": "yB9D95Mq7dkL"
      },
      "execution_count": null,
      "outputs": []
    },
    {
      "cell_type": "code",
      "source": [
        "df_dropna.head()"
      ],
      "metadata": {
        "colab": {
          "base_uri": "https://localhost:8080/",
          "height": 206
        },
        "id": "aIUtQheN8bUD",
        "outputId": "7a2d3844-942c-4f87-9023-38201b48c488"
      },
      "execution_count": null,
      "outputs": [
        {
          "output_type": "execute_result",
          "data": {
            "text/plain": [
              "   Origin       Solids  Chloramines     Sulfate  Conductivity  Organic_carbon  \\\n",
              "0     0.0  20791.31898     7.300212  368.516441    564.308654       10.379783   \n",
              "1     0.0  18630.05786     6.635246  349.748446    592.885359       15.180013   \n",
              "2     1.0  19909.54173     9.275884  323.876566    418.606213       16.868637   \n",
              "3     1.0  22018.41744     8.059332  356.886136    363.266516       18.436525   \n",
              "4     1.0  17978.98634     6.546600  310.135738    398.410813       11.558279   \n",
              "\n",
              "   Trihalomethanes  Turbidity  Hardness        ph  Survivability  \n",
              "0         8.954468   2.963135     205.0  7.112959              0  \n",
              "1         4.048808   4.500656     129.0  3.716080              0  \n",
              "2         4.210943   3.055934     224.0  8.099124              0  \n",
              "3         9.236995   4.628771     214.0  8.316766              0  \n",
              "4         3.496447   4.075075     181.0  9.092223              0  "
            ],
            "text/html": [
              "\n",
              "  <div id=\"df-da3f9071-854b-4e65-b8b5-f253e3a31e1c\" class=\"colab-df-container\">\n",
              "    <div>\n",
              "<style scoped>\n",
              "    .dataframe tbody tr th:only-of-type {\n",
              "        vertical-align: middle;\n",
              "    }\n",
              "\n",
              "    .dataframe tbody tr th {\n",
              "        vertical-align: top;\n",
              "    }\n",
              "\n",
              "    .dataframe thead th {\n",
              "        text-align: right;\n",
              "    }\n",
              "</style>\n",
              "<table border=\"1\" class=\"dataframe\">\n",
              "  <thead>\n",
              "    <tr style=\"text-align: right;\">\n",
              "      <th></th>\n",
              "      <th>Origin</th>\n",
              "      <th>Solids</th>\n",
              "      <th>Chloramines</th>\n",
              "      <th>Sulfate</th>\n",
              "      <th>Conductivity</th>\n",
              "      <th>Organic_carbon</th>\n",
              "      <th>Trihalomethanes</th>\n",
              "      <th>Turbidity</th>\n",
              "      <th>Hardness</th>\n",
              "      <th>ph</th>\n",
              "      <th>Survivability</th>\n",
              "    </tr>\n",
              "  </thead>\n",
              "  <tbody>\n",
              "    <tr>\n",
              "      <th>0</th>\n",
              "      <td>0.0</td>\n",
              "      <td>20791.31898</td>\n",
              "      <td>7.300212</td>\n",
              "      <td>368.516441</td>\n",
              "      <td>564.308654</td>\n",
              "      <td>10.379783</td>\n",
              "      <td>8.954468</td>\n",
              "      <td>2.963135</td>\n",
              "      <td>205.0</td>\n",
              "      <td>7.112959</td>\n",
              "      <td>0</td>\n",
              "    </tr>\n",
              "    <tr>\n",
              "      <th>1</th>\n",
              "      <td>0.0</td>\n",
              "      <td>18630.05786</td>\n",
              "      <td>6.635246</td>\n",
              "      <td>349.748446</td>\n",
              "      <td>592.885359</td>\n",
              "      <td>15.180013</td>\n",
              "      <td>4.048808</td>\n",
              "      <td>4.500656</td>\n",
              "      <td>129.0</td>\n",
              "      <td>3.716080</td>\n",
              "      <td>0</td>\n",
              "    </tr>\n",
              "    <tr>\n",
              "      <th>2</th>\n",
              "      <td>1.0</td>\n",
              "      <td>19909.54173</td>\n",
              "      <td>9.275884</td>\n",
              "      <td>323.876566</td>\n",
              "      <td>418.606213</td>\n",
              "      <td>16.868637</td>\n",
              "      <td>4.210943</td>\n",
              "      <td>3.055934</td>\n",
              "      <td>224.0</td>\n",
              "      <td>8.099124</td>\n",
              "      <td>0</td>\n",
              "    </tr>\n",
              "    <tr>\n",
              "      <th>3</th>\n",
              "      <td>1.0</td>\n",
              "      <td>22018.41744</td>\n",
              "      <td>8.059332</td>\n",
              "      <td>356.886136</td>\n",
              "      <td>363.266516</td>\n",
              "      <td>18.436525</td>\n",
              "      <td>9.236995</td>\n",
              "      <td>4.628771</td>\n",
              "      <td>214.0</td>\n",
              "      <td>8.316766</td>\n",
              "      <td>0</td>\n",
              "    </tr>\n",
              "    <tr>\n",
              "      <th>4</th>\n",
              "      <td>1.0</td>\n",
              "      <td>17978.98634</td>\n",
              "      <td>6.546600</td>\n",
              "      <td>310.135738</td>\n",
              "      <td>398.410813</td>\n",
              "      <td>11.558279</td>\n",
              "      <td>3.496447</td>\n",
              "      <td>4.075075</td>\n",
              "      <td>181.0</td>\n",
              "      <td>9.092223</td>\n",
              "      <td>0</td>\n",
              "    </tr>\n",
              "  </tbody>\n",
              "</table>\n",
              "</div>\n",
              "    <div class=\"colab-df-buttons\">\n",
              "\n",
              "  <div class=\"colab-df-container\">\n",
              "    <button class=\"colab-df-convert\" onclick=\"convertToInteractive('df-da3f9071-854b-4e65-b8b5-f253e3a31e1c')\"\n",
              "            title=\"Convert this dataframe to an interactive table.\"\n",
              "            style=\"display:none;\">\n",
              "\n",
              "  <svg xmlns=\"http://www.w3.org/2000/svg\" height=\"24px\" viewBox=\"0 -960 960 960\">\n",
              "    <path d=\"M120-120v-720h720v720H120Zm60-500h600v-160H180v160Zm220 220h160v-160H400v160Zm0 220h160v-160H400v160ZM180-400h160v-160H180v160Zm440 0h160v-160H620v160ZM180-180h160v-160H180v160Zm440 0h160v-160H620v160Z\"/>\n",
              "  </svg>\n",
              "    </button>\n",
              "\n",
              "  <style>\n",
              "    .colab-df-container {\n",
              "      display:flex;\n",
              "      gap: 12px;\n",
              "    }\n",
              "\n",
              "    .colab-df-convert {\n",
              "      background-color: #E8F0FE;\n",
              "      border: none;\n",
              "      border-radius: 50%;\n",
              "      cursor: pointer;\n",
              "      display: none;\n",
              "      fill: #1967D2;\n",
              "      height: 32px;\n",
              "      padding: 0 0 0 0;\n",
              "      width: 32px;\n",
              "    }\n",
              "\n",
              "    .colab-df-convert:hover {\n",
              "      background-color: #E2EBFA;\n",
              "      box-shadow: 0px 1px 2px rgba(60, 64, 67, 0.3), 0px 1px 3px 1px rgba(60, 64, 67, 0.15);\n",
              "      fill: #174EA6;\n",
              "    }\n",
              "\n",
              "    .colab-df-buttons div {\n",
              "      margin-bottom: 4px;\n",
              "    }\n",
              "\n",
              "    [theme=dark] .colab-df-convert {\n",
              "      background-color: #3B4455;\n",
              "      fill: #D2E3FC;\n",
              "    }\n",
              "\n",
              "    [theme=dark] .colab-df-convert:hover {\n",
              "      background-color: #434B5C;\n",
              "      box-shadow: 0px 1px 3px 1px rgba(0, 0, 0, 0.15);\n",
              "      filter: drop-shadow(0px 1px 2px rgba(0, 0, 0, 0.3));\n",
              "      fill: #FFFFFF;\n",
              "    }\n",
              "  </style>\n",
              "\n",
              "    <script>\n",
              "      const buttonEl =\n",
              "        document.querySelector('#df-da3f9071-854b-4e65-b8b5-f253e3a31e1c button.colab-df-convert');\n",
              "      buttonEl.style.display =\n",
              "        google.colab.kernel.accessAllowed ? 'block' : 'none';\n",
              "\n",
              "      async function convertToInteractive(key) {\n",
              "        const element = document.querySelector('#df-da3f9071-854b-4e65-b8b5-f253e3a31e1c');\n",
              "        const dataTable =\n",
              "          await google.colab.kernel.invokeFunction('convertToInteractive',\n",
              "                                                    [key], {});\n",
              "        if (!dataTable) return;\n",
              "\n",
              "        const docLinkHtml = 'Like what you see? Visit the ' +\n",
              "          '<a target=\"_blank\" href=https://colab.research.google.com/notebooks/data_table.ipynb>data table notebook</a>'\n",
              "          + ' to learn more about interactive tables.';\n",
              "        element.innerHTML = '';\n",
              "        dataTable['output_type'] = 'display_data';\n",
              "        await google.colab.output.renderOutput(dataTable, element);\n",
              "        const docLink = document.createElement('div');\n",
              "        docLink.innerHTML = docLinkHtml;\n",
              "        element.appendChild(docLink);\n",
              "      }\n",
              "    </script>\n",
              "  </div>\n",
              "\n",
              "\n",
              "<div id=\"df-811638b4-d9a9-4c6f-93f9-54c73f15d597\">\n",
              "  <button class=\"colab-df-quickchart\" onclick=\"quickchart('df-811638b4-d9a9-4c6f-93f9-54c73f15d597')\"\n",
              "            title=\"Suggest charts\"\n",
              "            style=\"display:none;\">\n",
              "\n",
              "<svg xmlns=\"http://www.w3.org/2000/svg\" height=\"24px\"viewBox=\"0 0 24 24\"\n",
              "     width=\"24px\">\n",
              "    <g>\n",
              "        <path d=\"M19 3H5c-1.1 0-2 .9-2 2v14c0 1.1.9 2 2 2h14c1.1 0 2-.9 2-2V5c0-1.1-.9-2-2-2zM9 17H7v-7h2v7zm4 0h-2V7h2v10zm4 0h-2v-4h2v4z\"/>\n",
              "    </g>\n",
              "</svg>\n",
              "  </button>\n",
              "\n",
              "<style>\n",
              "  .colab-df-quickchart {\n",
              "      --bg-color: #E8F0FE;\n",
              "      --fill-color: #1967D2;\n",
              "      --hover-bg-color: #E2EBFA;\n",
              "      --hover-fill-color: #174EA6;\n",
              "      --disabled-fill-color: #AAA;\n",
              "      --disabled-bg-color: #DDD;\n",
              "  }\n",
              "\n",
              "  [theme=dark] .colab-df-quickchart {\n",
              "      --bg-color: #3B4455;\n",
              "      --fill-color: #D2E3FC;\n",
              "      --hover-bg-color: #434B5C;\n",
              "      --hover-fill-color: #FFFFFF;\n",
              "      --disabled-bg-color: #3B4455;\n",
              "      --disabled-fill-color: #666;\n",
              "  }\n",
              "\n",
              "  .colab-df-quickchart {\n",
              "    background-color: var(--bg-color);\n",
              "    border: none;\n",
              "    border-radius: 50%;\n",
              "    cursor: pointer;\n",
              "    display: none;\n",
              "    fill: var(--fill-color);\n",
              "    height: 32px;\n",
              "    padding: 0;\n",
              "    width: 32px;\n",
              "  }\n",
              "\n",
              "  .colab-df-quickchart:hover {\n",
              "    background-color: var(--hover-bg-color);\n",
              "    box-shadow: 0 1px 2px rgba(60, 64, 67, 0.3), 0 1px 3px 1px rgba(60, 64, 67, 0.15);\n",
              "    fill: var(--button-hover-fill-color);\n",
              "  }\n",
              "\n",
              "  .colab-df-quickchart-complete:disabled,\n",
              "  .colab-df-quickchart-complete:disabled:hover {\n",
              "    background-color: var(--disabled-bg-color);\n",
              "    fill: var(--disabled-fill-color);\n",
              "    box-shadow: none;\n",
              "  }\n",
              "\n",
              "  .colab-df-spinner {\n",
              "    border: 2px solid var(--fill-color);\n",
              "    border-color: transparent;\n",
              "    border-bottom-color: var(--fill-color);\n",
              "    animation:\n",
              "      spin 1s steps(1) infinite;\n",
              "  }\n",
              "\n",
              "  @keyframes spin {\n",
              "    0% {\n",
              "      border-color: transparent;\n",
              "      border-bottom-color: var(--fill-color);\n",
              "      border-left-color: var(--fill-color);\n",
              "    }\n",
              "    20% {\n",
              "      border-color: transparent;\n",
              "      border-left-color: var(--fill-color);\n",
              "      border-top-color: var(--fill-color);\n",
              "    }\n",
              "    30% {\n",
              "      border-color: transparent;\n",
              "      border-left-color: var(--fill-color);\n",
              "      border-top-color: var(--fill-color);\n",
              "      border-right-color: var(--fill-color);\n",
              "    }\n",
              "    40% {\n",
              "      border-color: transparent;\n",
              "      border-right-color: var(--fill-color);\n",
              "      border-top-color: var(--fill-color);\n",
              "    }\n",
              "    60% {\n",
              "      border-color: transparent;\n",
              "      border-right-color: var(--fill-color);\n",
              "    }\n",
              "    80% {\n",
              "      border-color: transparent;\n",
              "      border-right-color: var(--fill-color);\n",
              "      border-bottom-color: var(--fill-color);\n",
              "    }\n",
              "    90% {\n",
              "      border-color: transparent;\n",
              "      border-bottom-color: var(--fill-color);\n",
              "    }\n",
              "  }\n",
              "</style>\n",
              "\n",
              "  <script>\n",
              "    async function quickchart(key) {\n",
              "      const quickchartButtonEl =\n",
              "        document.querySelector('#' + key + ' button');\n",
              "      quickchartButtonEl.disabled = true;  // To prevent multiple clicks.\n",
              "      quickchartButtonEl.classList.add('colab-df-spinner');\n",
              "      try {\n",
              "        const charts = await google.colab.kernel.invokeFunction(\n",
              "            'suggestCharts', [key], {});\n",
              "      } catch (error) {\n",
              "        console.error('Error during call to suggestCharts:', error);\n",
              "      }\n",
              "      quickchartButtonEl.classList.remove('colab-df-spinner');\n",
              "      quickchartButtonEl.classList.add('colab-df-quickchart-complete');\n",
              "    }\n",
              "    (() => {\n",
              "      let quickchartButtonEl =\n",
              "        document.querySelector('#df-811638b4-d9a9-4c6f-93f9-54c73f15d597 button');\n",
              "      quickchartButtonEl.style.display =\n",
              "        google.colab.kernel.accessAllowed ? 'block' : 'none';\n",
              "    })();\n",
              "  </script>\n",
              "</div>\n",
              "\n",
              "    </div>\n",
              "  </div>\n"
            ],
            "application/vnd.google.colaboratory.intrinsic+json": {
              "type": "dataframe",
              "variable_name": "df_dropna",
              "summary": "{\n  \"name\": \"df_dropna\",\n  \"rows\": 3262,\n  \"fields\": [\n    {\n      \"column\": \"Origin\",\n      \"properties\": {\n        \"dtype\": \"number\",\n        \"std\": 1.6149078606003923e+17,\n        \"min\": -9.223372036854776e+18,\n        \"max\": 2.0,\n        \"num_unique_values\": 4,\n        \"samples\": [\n          1.0,\n          -9.223372036854776e+18,\n          0.0\n        ],\n        \"semantic_type\": \"\",\n        \"description\": \"\"\n      }\n    },\n    {\n      \"column\": \"Solids\",\n      \"properties\": {\n        \"dtype\": \"number\",\n        \"std\": 8748.68111237704,\n        \"min\": 320.9426113,\n        \"max\": 61227.19601,\n        \"num_unique_values\": 3262,\n        \"samples\": [\n          25591.84098,\n          14775.1456,\n          21230.43141\n        ],\n        \"semantic_type\": \"\",\n        \"description\": \"\"\n      }\n    },\n    {\n      \"column\": \"Chloramines\",\n      \"properties\": {\n        \"dtype\": \"number\",\n        \"std\": 1.583208662262164,\n        \"min\": 0.352,\n        \"max\": 13.127,\n        \"num_unique_values\": 3262,\n        \"samples\": [\n          10.189528,\n          7.484103647,\n          6.485594271\n        ],\n        \"semantic_type\": \"\",\n        \"description\": \"\"\n      }\n    },\n    {\n      \"column\": \"Sulfate\",\n      \"properties\": {\n        \"dtype\": \"number\",\n        \"std\": 36.96481381491005,\n        \"min\": 129.0,\n        \"max\": 481.0306423,\n        \"num_unique_values\": 2638,\n        \"samples\": [\n          387.2999071,\n          370.7534689,\n          380.2306339\n        ],\n        \"semantic_type\": \"\",\n        \"description\": \"\"\n      }\n    },\n    {\n      \"column\": \"Conductivity\",\n      \"properties\": {\n        \"dtype\": \"number\",\n        \"std\": 80.86354204366104,\n        \"min\": 181.483754,\n        \"max\": 753.3426196,\n        \"num_unique_values\": 3262,\n        \"samples\": [\n          330.5504527,\n          327.2702387,\n          532.5727848\n        ],\n        \"semantic_type\": \"\",\n        \"description\": \"\"\n      }\n    },\n    {\n      \"column\": \"Organic_carbon\",\n      \"properties\": {\n        \"dtype\": \"number\",\n        \"std\": 3.31204469543754,\n        \"min\": 2.2,\n        \"max\": 28.3,\n        \"num_unique_values\": 3262,\n        \"samples\": [\n          15.44784173,\n          12.30901596,\n          18.26368767\n        ],\n        \"semantic_type\": \"\",\n        \"description\": \"\"\n      }\n    },\n    {\n      \"column\": \"Trihalomethanes\",\n      \"properties\": {\n        \"dtype\": \"number\",\n        \"std\": 1.9216892201390257,\n        \"min\": 0.552735027,\n        \"max\": 9.656627475,\n        \"num_unique_values\": 3185,\n        \"samples\": [\n          4.295716305,\n          3.804395199,\n          9.256826432\n        ],\n        \"semantic_type\": \"\",\n        \"description\": \"\"\n      }\n    },\n    {\n      \"column\": \"Turbidity\",\n      \"properties\": {\n        \"dtype\": \"number\",\n        \"std\": 0.7807513035455741,\n        \"min\": 1.45,\n        \"max\": 6.739,\n        \"num_unique_values\": 3262,\n        \"samples\": [\n          4.291668967,\n          3.467336915,\n          4.527364378\n        ],\n        \"semantic_type\": \"\",\n        \"description\": \"\"\n      }\n    },\n    {\n      \"column\": \"Hardness\",\n      \"properties\": {\n        \"dtype\": \"number\",\n        \"std\": 32.27210416126849,\n        \"min\": 73.0,\n        \"max\": 317.0,\n        \"num_unique_values\": 190,\n        \"samples\": [\n          97.0,\n          124.0,\n          284.0\n        ],\n        \"semantic_type\": \"\",\n        \"description\": \"\"\n      }\n    },\n    {\n      \"column\": \"ph\",\n      \"properties\": {\n        \"dtype\": \"number\",\n        \"std\": 1.4738762274868018,\n        \"min\": 0.0,\n        \"max\": 14.0,\n        \"num_unique_values\": 2902,\n        \"samples\": [\n          7.861177701,\n          9.953952112,\n          9.919478426\n        ],\n        \"semantic_type\": \"\",\n        \"description\": \"\"\n      }\n    },\n    {\n      \"column\": \"Survivability\",\n      \"properties\": {\n        \"dtype\": \"number\",\n        \"std\": 0,\n        \"min\": 0,\n        \"max\": 1,\n        \"num_unique_values\": 2,\n        \"samples\": [\n          1,\n          0\n        ],\n        \"semantic_type\": \"\",\n        \"description\": \"\"\n      }\n    }\n  ]\n}"
            }
          },
          "metadata": {},
          "execution_count": 14
        }
      ]
    },
    {
      "cell_type": "code",
      "source": [
        "X_DN = df_dropna.drop(columns=['Survivability'])  # 특징 데이터\n",
        "y_DN = df_dropna['Survivability']  # 타겟 데이터\n",
        "\n",
        "# train : test = 8:2 설정\n",
        "X_train_DN, X_test_DN, y_train_DN, y_test_DN = train_test_split(X_DN, y_DN, test_size=0.2,random_state=42)"
      ],
      "metadata": {
        "id": "E_GrJavX2m5V"
      },
      "execution_count": null,
      "outputs": []
    },
    {
      "cell_type": "markdown",
      "source": [
        "Linear Regression"
      ],
      "metadata": {
        "id": "ByvXhZWm6_iY"
      }
    },
    {
      "cell_type": "code",
      "source": [
        "LRmodel = LinearRegression(fit_intercept=True)\n",
        "LRmodel.fit(X_train_DN, y_train_DN)\n",
        "\n",
        "y_pred_DN = LRmodel.predict(X_test_DN)"
      ],
      "metadata": {
        "id": "gBe9pBNf6s6m"
      },
      "execution_count": null,
      "outputs": []
    },
    {
      "cell_type": "code",
      "source": [
        "# 모델 평가\n",
        "y_pred_DN = (y_pred_DN > 0.5).astype(int)\n",
        "\n",
        "\n",
        "print(\"Accuracy:\", accuracy_score(y_test_DN, y_pred_DN))\n",
        "print(\"Linear Regression Classification Report:\")\n",
        "print(classification_report(y_test_DN, y_pred_DN))"
      ],
      "metadata": {
        "colab": {
          "base_uri": "https://localhost:8080/"
        },
        "id": "iSCY7b1i6-SD",
        "outputId": "a7bdc511-2295-4d1a-ddd5-930aa9d37a43"
      },
      "execution_count": null,
      "outputs": [
        {
          "output_type": "stream",
          "name": "stdout",
          "text": [
            "Accuracy: 0.6493108728943339\n",
            "Linear Regression Classification Report:\n",
            "              precision    recall  f1-score   support\n",
            "\n",
            "           0       0.65      1.00      0.79       424\n",
            "           1       0.00      0.00      0.00       229\n",
            "\n",
            "    accuracy                           0.65       653\n",
            "   macro avg       0.32      0.50      0.39       653\n",
            "weighted avg       0.42      0.65      0.51       653\n",
            "\n"
          ]
        },
        {
          "output_type": "stream",
          "name": "stderr",
          "text": [
            "/usr/local/lib/python3.10/dist-packages/sklearn/metrics/_classification.py:1531: UndefinedMetricWarning: Precision is ill-defined and being set to 0.0 in labels with no predicted samples. Use `zero_division` parameter to control this behavior.\n",
            "  _warn_prf(average, modifier, f\"{metric.capitalize()} is\", len(result))\n",
            "/usr/local/lib/python3.10/dist-packages/sklearn/metrics/_classification.py:1531: UndefinedMetricWarning: Precision is ill-defined and being set to 0.0 in labels with no predicted samples. Use `zero_division` parameter to control this behavior.\n",
            "  _warn_prf(average, modifier, f\"{metric.capitalize()} is\", len(result))\n",
            "/usr/local/lib/python3.10/dist-packages/sklearn/metrics/_classification.py:1531: UndefinedMetricWarning: Precision is ill-defined and being set to 0.0 in labels with no predicted samples. Use `zero_division` parameter to control this behavior.\n",
            "  _warn_prf(average, modifier, f\"{metric.capitalize()} is\", len(result))\n"
          ]
        }
      ]
    },
    {
      "cell_type": "markdown",
      "source": [
        "Logistic Regression"
      ],
      "metadata": {
        "id": "CkHg9GmxA3Sv"
      }
    },
    {
      "cell_type": "code",
      "source": [
        "scaler = StandardScaler()\n",
        "X_train_scaled = scaler.fit_transform(X_train_DN)\n",
        "X_test_scaled = scaler.transform(X_test_DN)\n",
        "\n",
        "\n",
        "Logistic_model = OneVsRestClassifier(LogisticRegression())\n",
        "Logistic_model.fit(X_train_scaled, y_train_DN)\n",
        "y_pred_DN_logi = Logistic_model.predict(X_test_scaled)\n",
        "\n",
        "\n",
        "print(\"Accuracy:\", accuracy_score(y_test_DN, y_pred_DN_logi))\n",
        "print(\"Logistic Regression Classification Report:\")\n",
        "print(classification_report(y_test_DN, y_pred_DN_logi))"
      ],
      "metadata": {
        "colab": {
          "base_uri": "https://localhost:8080/"
        },
        "id": "jPIPKW2-8tbj",
        "outputId": "4f4be871-95ad-47be-916b-8ff0543d75c7"
      },
      "execution_count": null,
      "outputs": [
        {
          "output_type": "stream",
          "name": "stdout",
          "text": [
            "Accuracy: 0.6477794793261868\n",
            "Logistic Regression Classification Report:\n",
            "              precision    recall  f1-score   support\n",
            "\n",
            "           0       0.65      1.00      0.79       424\n",
            "           1       0.00      0.00      0.00       229\n",
            "\n",
            "    accuracy                           0.65       653\n",
            "   macro avg       0.32      0.50      0.39       653\n",
            "weighted avg       0.42      0.65      0.51       653\n",
            "\n"
          ]
        }
      ]
    },
    {
      "cell_type": "code",
      "source": [
        "logreg = LogisticRegression(random_state=42, solver='lbfgs', max_iter=1000)\n",
        "\n",
        "logreg.fit(X_train_scaled, y_train_DN.astype(int))  # y_train이 정수형인지 확인\n",
        "\n",
        "y_pred_lr = logreg.predict(X_test_scaled)\n",
        "\n",
        "print(\"Accuracy:\", accuracy_score(y_test_DN.astype(int), y_pred_lr))\n",
        "print(\"Classification Report:\\n\", classification_report(y_test_DN.astype(int), y_pred_lr))"
      ],
      "metadata": {
        "colab": {
          "base_uri": "https://localhost:8080/"
        },
        "id": "Cd9hp5txtQVZ",
        "outputId": "85f9b6f7-05a3-47ee-bf6f-c6a4d7a0224b"
      },
      "execution_count": null,
      "outputs": [
        {
          "output_type": "stream",
          "name": "stdout",
          "text": [
            "Accuracy: 0.6477794793261868\n",
            "Classification Report:\n",
            "               precision    recall  f1-score   support\n",
            "\n",
            "           0       0.65      1.00      0.79       424\n",
            "           1       0.00      0.00      0.00       229\n",
            "\n",
            "    accuracy                           0.65       653\n",
            "   macro avg       0.32      0.50      0.39       653\n",
            "weighted avg       0.42      0.65      0.51       653\n",
            "\n"
          ]
        }
      ]
    },
    {
      "cell_type": "markdown",
      "source": [
        "Neural Network"
      ],
      "metadata": {
        "id": "UYsS77n2vQwe"
      }
    },
    {
      "cell_type": "code",
      "source": [
        "#Neural Network\n",
        "mlp = MLPClassifier(hidden_layer_sizes=(100, 100), activation='relu', solver='adam', max_iter=1000, random_state=42)\n",
        "\n",
        "mlp.fit(X_train_scaled, y_train_DN.astype(int))\n",
        "\n",
        "y_pred_NN = mlp.predict(X_test_scaled)\n",
        "print(\"Accuracy:\", accuracy_score(y_test_DN.astype(int), y_pred_NN))\n",
        "print(\"Classification Report:\\n\", classification_report(y_test_DN.astype(int), y_pred_NN))"
      ],
      "metadata": {
        "colab": {
          "base_uri": "https://localhost:8080/"
        },
        "id": "D2FdXcpfez-L",
        "outputId": "e3b2433f-b5ff-4a62-ede7-cf958096882d"
      },
      "execution_count": null,
      "outputs": [
        {
          "output_type": "stream",
          "name": "stdout",
          "text": [
            "Accuracy: 0.6569678407350689\n",
            "Classification Report:\n",
            "               precision    recall  f1-score   support\n",
            "\n",
            "           0       0.74      0.72      0.73       424\n",
            "           1       0.51      0.54      0.53       229\n",
            "\n",
            "    accuracy                           0.66       653\n",
            "   macro avg       0.63      0.63      0.63       653\n",
            "weighted avg       0.66      0.66      0.66       653\n",
            "\n"
          ]
        }
      ]
    },
    {
      "cell_type": "markdown",
      "source": [
        "Random Forest"
      ],
      "metadata": {
        "id": "VElamBXcvT6n"
      }
    },
    {
      "cell_type": "code",
      "source": [
        "#RandomForestClassifier\n",
        "\n",
        "from sklearn.ensemble import RandomForestClassifier\n",
        "from sklearn.metrics import accuracy_score\n",
        "\n",
        "rf_classifier = RandomForestClassifier(n_estimators=100, random_state=42)\n",
        "rf_classifier.fit(X_train_scaled, y_train_DN.astype(int))\n",
        "\n",
        "\n",
        "y_pred_RF = rf_classifier.predict(X_test_scaled)\n",
        "\n",
        "print(\"Accuracy:\", accuracy_score(y_test_DN.astype(int), y_pred_RF))\n",
        "print(\"Classification Report:\\n\", classification_report(y_test_DN.astype(int), y_pred_RF))"
      ],
      "metadata": {
        "id": "sKzEFvFJe0-C",
        "colab": {
          "base_uri": "https://localhost:8080/"
        },
        "outputId": "eacb17a0-d1a5-491f-8ae6-75e54789a468"
      },
      "execution_count": null,
      "outputs": [
        {
          "output_type": "stream",
          "name": "stdout",
          "text": [
            "Accuracy: 0.6906584992343032\n",
            "Classification Report:\n",
            "               precision    recall  f1-score   support\n",
            "\n",
            "           0       0.72      0.86      0.78       424\n",
            "           1       0.59      0.38      0.46       229\n",
            "\n",
            "    accuracy                           0.69       653\n",
            "   macro avg       0.66      0.62      0.62       653\n",
            "weighted avg       0.67      0.69      0.67       653\n",
            "\n"
          ]
        }
      ]
    },
    {
      "cell_type": "code",
      "source": [],
      "metadata": {
        "id": "8URbcKMWwnUr"
      },
      "execution_count": null,
      "outputs": []
    }
  ]
}